{
 "cells": [
  {
   "cell_type": "markdown",
   "metadata": {},
   "source": [
    "##### 1. Write a Python program to print &quot;Hello Python&quot;?\n"
   ]
  },
  {
   "cell_type": "code",
   "execution_count": 2,
   "metadata": {},
   "outputs": [
    {
     "name": "stdout",
     "output_type": "stream",
     "text": [
      "Hello Python\n"
     ]
    }
   ],
   "source": [
    "def hello():\n",
    "    print(\"Hello Python\")\n",
    "\n",
    "hello()"
   ]
  },
  {
   "cell_type": "markdown",
   "metadata": {},
   "source": [
    "##### 2. Write a Python program to do arithmetical operations addition and division.?\n"
   ]
  },
  {
   "cell_type": "code",
   "execution_count": 3,
   "metadata": {},
   "outputs": [
    {
     "name": "stdout",
     "output_type": "stream",
     "text": [
      "Addition of   4  and  5  is:  9\n",
      "Division of   4  and  5  is:  0.8\n"
     ]
    }
   ],
   "source": [
    "def addDivide(num1, num2):\n",
    "    add = num1 + num2\n",
    "    if num2 != 0 :\n",
    "            divide = num1/num2\n",
    "    else:\n",
    "        print(\"Invalid argument for division\")\n",
    "    print(\"Addition of  \", num1, \" and \", num2, \" is: \", add)\n",
    "    print(\"Division of  \", num1, \" and \", num2, \" is: \", divide)\n",
    "\n",
    "addDivide(4, 5)\n",
    "    "
   ]
  },
  {
   "cell_type": "markdown",
   "metadata": {},
   "source": [
    "##### 3. Write a Python program to find the area of a triangle?\n"
   ]
  },
  {
   "cell_type": "code",
   "execution_count": 19,
   "metadata": {},
   "outputs": [
    {
     "name": "stdout",
     "output_type": "stream",
     "text": [
      "Enter side 1 of a triangle: 10\n",
      "Enter side 2 of a triangle: 9\n",
      "Enter side 3 of a triangle: 12\n",
      "Area of a triangle is:  44.039045175843675\n"
     ]
    }
   ],
   "source": [
    "\n",
    "a = float(input(\"Enter side 1 of a triangle: \"))\n",
    "b = float(input(\"Enter side 2 of a triangle: \"))\n",
    "c = float(input(\"Enter side 3 of a triangle: \"))\n",
    "\n",
    "# calculate the semi-perimeter.\n",
    "s = (a + b + c) / 2.\n",
    "# calculate the area.\n",
    "area = (s*(s-a)*(s-b)*(s-c)) ** 0.5\n",
    "print(\"Area of a triangle is: \", area)"
   ]
  },
  {
   "cell_type": "markdown",
   "metadata": {},
   "source": [
    "##### 4. Write a Python program to swap two variables?\n"
   ]
  },
  {
   "cell_type": "code",
   "execution_count": 22,
   "metadata": {},
   "outputs": [
    {
     "name": "stdout",
     "output_type": "stream",
     "text": [
      "Value of a and b before swapping :  10 ,  20  , respectively\n",
      "Value of a and b after swapping :  20 ,  10  , respectively\n"
     ]
    }
   ],
   "source": [
    "a = 10\n",
    "b = 20\n",
    "\n",
    "print(\"Value of a and b before swapping : \", a, \", \", b, \" , respectively\")\n",
    "a, b = b, a\n",
    "print(\"Value of a and b after swapping : \", a, \", \", b, \" , respectively\")"
   ]
  },
  {
   "cell_type": "markdown",
   "metadata": {},
   "source": [
    "##### 5. Write a Python program to generate a random number?"
   ]
  },
  {
   "cell_type": "code",
   "execution_count": 26,
   "metadata": {},
   "outputs": [
    {
     "name": "stdout",
     "output_type": "stream",
     "text": [
      "Random number is :  75\n"
     ]
    }
   ],
   "source": [
    "import random\n",
    "\n",
    "randomNumber = random.randint(1, 100)\n",
    "print(\"Random number is : \", randomNumber)"
   ]
  },
  {
   "cell_type": "code",
   "execution_count": null,
   "metadata": {},
   "outputs": [],
   "source": []
  },
  {
   "cell_type": "code",
   "execution_count": null,
   "metadata": {},
   "outputs": [],
   "source": []
  },
  {
   "cell_type": "code",
   "execution_count": null,
   "metadata": {},
   "outputs": [],
   "source": []
  }
 ],
 "metadata": {
  "kernelspec": {
   "display_name": "Python 3",
   "language": "python",
   "name": "python3"
  },
  "language_info": {
   "codemirror_mode": {
    "name": "ipython",
    "version": 3
   },
   "file_extension": ".py",
   "mimetype": "text/x-python",
   "name": "python",
   "nbconvert_exporter": "python",
   "pygments_lexer": "ipython3",
   "version": "3.7.3"
  }
 },
 "nbformat": 4,
 "nbformat_minor": 2
}
