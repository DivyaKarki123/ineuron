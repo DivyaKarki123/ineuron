{
 "cells": [
  {
   "cell_type": "markdown",
   "metadata": {},
   "source": [
    "##### 1. Write a Python program to convert kilometers to miles?\n"
   ]
  },
  {
   "cell_type": "code",
   "execution_count": 3,
   "metadata": {},
   "outputs": [
    {
     "name": "stdout",
     "output_type": "stream",
     "text": [
      "Value in km: 4675\n",
      "4675.000 value converted to 2904.909\n"
     ]
    }
   ],
   "source": [
    "kilometers = float(input(\"Value in km: \"))\n",
    "conv = 0.621371\n",
    "miles = kilometers * conv\n",
    "print(\"%0.3f value converted to %0.3f\"%(kilometers, miles))"
   ]
  },
  {
   "cell_type": "markdown",
   "metadata": {},
   "source": [
    "##### 2. Write a Python program to convert Celsius to Fahrenheit?\n"
   ]
  },
  {
   "cell_type": "code",
   "execution_count": 5,
   "metadata": {},
   "outputs": [
    {
     "name": "stdout",
     "output_type": "stream",
     "text": [
      "Value in Farenheit: 56\n",
      "56.00 value converted to 132.80\n"
     ]
    }
   ],
   "source": [
    "celsius = float(input(\"Value in Farenheit: \"))\n",
    "fahrenheit = (celsius * 1.8) + 32\n",
    "print(\"%0.2f value converted to %0.2f\"%(celsius, fahrenheit))\n"
   ]
  },
  {
   "cell_type": "markdown",
   "metadata": {},
   "source": [
    "##### 3. Write a Python program to display calendar?\n"
   ]
  },
  {
   "cell_type": "code",
   "execution_count": 7,
   "metadata": {},
   "outputs": [
    {
     "name": "stdout",
     "output_type": "stream",
     "text": [
      "Enter year: 1194\n",
      "Enter month: 4\n",
      "     April 1194\n",
      "Mo Tu We Th Fr Sa Su\n",
      "             1  2  3\n",
      " 4  5  6  7  8  9 10\n",
      "11 12 13 14 15 16 17\n",
      "18 19 20 21 22 23 24\n",
      "25 26 27 28 29 30\n",
      "\n"
     ]
    }
   ],
   "source": [
    "import calendar\n",
    "\n",
    "year = int(input(\"Enter year: \"))\n",
    "month = int(input(\"Enter month: \"))\n",
    "print(calendar.month(year, month))"
   ]
  },
  {
   "cell_type": "markdown",
   "metadata": {},
   "source": [
    "##### 4. Write a Python program to solve quadratic equation?\n"
   ]
  },
  {
   "cell_type": "code",
   "execution_count": 10,
   "metadata": {},
   "outputs": [
    {
     "name": "stdout",
     "output_type": "stream",
     "text": [
      "Two possible values of x are:  (-4+5.656854249492381j) (4+5.656854249492381j)\n"
     ]
    }
   ],
   "source": [
    "# quadratic equation : ax**2 + bx + c = 0\n",
    "# x = (-b ± (b ** 2 - 4 * a * c) ** 0.5) / 2 * a\n",
    "import cmath\n",
    "\n",
    "a = 2\n",
    "b = 4\n",
    "c = 6\n",
    "\n",
    "d = ((b ** 2) - (4 * a * c))\n",
    "x1 = (-b + cmath.sqrt(d))/ 2 * a\n",
    "x2 = (b + cmath.sqrt(d))/ 2 * a\n",
    "print(\"Two possible values of x are: \",x1 , x2)\n"
   ]
  },
  {
   "cell_type": "markdown",
   "metadata": {},
   "source": [
    "##### 5. Write a Python program to swap two variables without temp variable?"
   ]
  },
  {
   "cell_type": "code",
   "execution_count": 12,
   "metadata": {},
   "outputs": [
    {
     "name": "stdout",
     "output_type": "stream",
     "text": [
      "Enter value 1: 22\n",
      "Enter value 2: 33\n",
      "Value of a and b before swapping :  22 ,  33  , respectively\n",
      "Value of a and b after swapping :  33 ,  22  , respectively\n"
     ]
    }
   ],
   "source": [
    "a = int(input(\"Enter value 1: \"))\n",
    "b = int(input(\"Enter value 2: \"))\n",
    "\n",
    "print(\"Value of a and b before swapping : \", a, \", \", b, \" , respectively\")\n",
    "a, b = b, a\n",
    "print(\"Value of a and b after swapping : \", a, \", \", b, \" , respectively\")\n"
   ]
  },
  {
   "cell_type": "code",
   "execution_count": null,
   "metadata": {},
   "outputs": [],
   "source": []
  },
  {
   "cell_type": "code",
   "execution_count": null,
   "metadata": {},
   "outputs": [],
   "source": []
  },
  {
   "cell_type": "code",
   "execution_count": null,
   "metadata": {},
   "outputs": [],
   "source": []
  },
  {
   "cell_type": "code",
   "execution_count": null,
   "metadata": {},
   "outputs": [],
   "source": []
  },
  {
   "cell_type": "code",
   "execution_count": null,
   "metadata": {},
   "outputs": [],
   "source": []
  },
  {
   "cell_type": "code",
   "execution_count": null,
   "metadata": {},
   "outputs": [],
   "source": []
  }
 ],
 "metadata": {
  "kernelspec": {
   "display_name": "Python 3",
   "language": "python",
   "name": "python3"
  },
  "language_info": {
   "codemirror_mode": {
    "name": "ipython",
    "version": 3
   },
   "file_extension": ".py",
   "mimetype": "text/x-python",
   "name": "python",
   "nbconvert_exporter": "python",
   "pygments_lexer": "ipython3",
   "version": "3.7.3"
  }
 },
 "nbformat": 4,
 "nbformat_minor": 2
}
