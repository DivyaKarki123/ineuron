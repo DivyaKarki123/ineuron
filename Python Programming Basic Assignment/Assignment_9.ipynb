{
 "cells": [
  {
   "cell_type": "markdown",
   "metadata": {},
   "source": [
    "##### 1. Write a Python program to check if the given number is a Disarium Number?\n"
   ]
  },
  {
   "cell_type": "code",
   "execution_count": 9,
   "metadata": {},
   "outputs": [
    {
     "name": "stdout",
     "output_type": "stream",
     "text": [
      "Enter a number: 188\n",
      "Not an Disarium number  577\n"
     ]
    }
   ],
   "source": [
    "a = int(input(\"Enter a number: \"))\n",
    "temp = a\n",
    "sum = 0\n",
    "count = 0\n",
    "while temp > 0:\n",
    "     temp = temp//10\n",
    "     count += 1\n",
    "temp = a \n",
    "while temp > 0:\n",
    "    digit = temp%10\n",
    "    sum = digit**count + sum\n",
    "    temp = temp//10\n",
    "    count -= 1\n",
    "\n",
    "if (sum == a):\n",
    "    print(\"Disarium number\")\n",
    "else:\n",
    "    print(\"Not an Disarium number \", sum)"
   ]
  },
  {
   "cell_type": "markdown",
   "metadata": {},
   "source": [
    "##### 2. Write a Python program to print all disarium numbers between 1 to 100?"
   ]
  },
  {
   "cell_type": "code",
   "execution_count": 2,
   "metadata": {},
   "outputs": [
    {
     "name": "stdout",
     "output_type": "stream",
     "text": [
      "Disarium number between 1 to 100: [1, 2, 3, 4, 5, 6, 7, 8, 9, 89]\n"
     ]
    }
   ],
   "source": [
    "l = []\n",
    "for a in range(1, 100):\n",
    "    temp = a\n",
    "    sum = 0\n",
    "    count = 0\n",
    "    while temp > 0:\n",
    "         temp = temp//10\n",
    "         count += 1\n",
    "    temp = a \n",
    "    while temp > 0:\n",
    "        digit = temp%10\n",
    "        sum = digit**count + sum\n",
    "        temp = temp//10\n",
    "        count -= 1\n",
    "\n",
    "    if (sum == a):\n",
    "        l.append(a)\n",
    "\n",
    "print(\"Disarium number between 1 to 100:\" , l)"
   ]
  },
  {
   "cell_type": "markdown",
   "metadata": {},
   "source": [
    "##### 3. Write a Python program to check if the given number is Happy Number?\n"
   ]
  },
  {
   "cell_type": "code",
   "execution_count": 6,
   "metadata": {},
   "outputs": [
    {
     "name": "stdout",
     "output_type": "stream",
     "text": [
      "Enter a number: 6\n",
      "Not an Happy number  4\n"
     ]
    }
   ],
   "source": [
    "a = int(input(\"Enter a number: \"))\n",
    "\n",
    "def funCount(num):\n",
    "    count = 0\n",
    "    while num > 0:\n",
    "        num = num//10\n",
    "        count += 1\n",
    "    return count\n",
    "\n",
    "def fun(num):\n",
    "    temp = num\n",
    "    sum = 0\n",
    "    while temp > 0:\n",
    "        digit = temp%10\n",
    "        sum = digit**2 + sum\n",
    "        temp = temp//10\n",
    "    return sum\n",
    "\n",
    "while funCount(a) > 0:\n",
    "    a = fun(a)\n",
    "    if a <= 1 or a == 4:\n",
    "        break\n",
    "\n",
    "if (a == 1):\n",
    "    print(\"Happy number\")\n",
    "else:\n",
    "    print(\"Not an Happy number \", a)"
   ]
  },
  {
   "cell_type": "markdown",
   "metadata": {},
   "source": [
    "##### 4. Write a Python program to print all happy numbers between 1 and 100?\n"
   ]
  },
  {
   "cell_type": "code",
   "execution_count": 7,
   "metadata": {},
   "outputs": [
    {
     "name": "stdout",
     "output_type": "stream",
     "text": [
      "Happy number:  [1, 7, 10, 13, 19, 23, 28, 31, 32, 44, 49, 68, 70, 79, 82, 86, 91, 94, 97]\n"
     ]
    }
   ],
   "source": [
    "l = []\n",
    "def funCount(num):\n",
    "    count = 0\n",
    "    while num > 0:\n",
    "        num = num//10\n",
    "        count += 1\n",
    "    return count\n",
    "\n",
    "def fun(num):\n",
    "    temp = num\n",
    "    sum = 0\n",
    "    while temp > 0:\n",
    "        digit = temp%10\n",
    "        sum = digit**2 + sum\n",
    "        temp = temp//10\n",
    "    return sum\n",
    "\n",
    "for a in range(1, 100):\n",
    "    temp = a\n",
    "    while funCount(a) > 0:\n",
    "        a = fun(a)\n",
    "        if a <= 1 or a == 4:\n",
    "            break\n",
    "            \n",
    "    if (a == 1):\n",
    "        l.append(temp)\n",
    "        \n",
    "print(\"Happy number: \", l)\n",
    "        "
   ]
  },
  {
   "cell_type": "markdown",
   "metadata": {},
   "source": [
    "##### 5. Write a Python program to determine whether the given number is a Harshad Number?\n"
   ]
  },
  {
   "cell_type": "code",
   "execution_count": 19,
   "metadata": {},
   "outputs": [
    {
     "name": "stdout",
     "output_type": "stream",
     "text": [
      "Enter a number: 12\n",
      "Harshad number\n"
     ]
    }
   ],
   "source": [
    "a = int(input(\"Enter a number: \"))\n",
    "temp = a\n",
    "sum = 0\n",
    "while temp > 0:\n",
    "    digit = temp%10\n",
    "    sum = digit + sum\n",
    "    temp = temp//10\n",
    "\n",
    "if (a%sum == 0):\n",
    "    print(\"Harshad number\")\n",
    "else:\n",
    "    print(\"Not an Harshad number \", sum)"
   ]
  },
  {
   "cell_type": "markdown",
   "metadata": {},
   "source": [
    "##### 6. Write a Python program to print all pronic numbers between 1 and 100?5"
   ]
  },
  {
   "cell_type": "code",
   "execution_count": 22,
   "metadata": {},
   "outputs": [
    {
     "name": "stdout",
     "output_type": "stream",
     "text": [
      "Pronic numbers are:  [2, 6, 12, 20, 30, 42, 56, 72, 90]\n"
     ]
    }
   ],
   "source": [
    "l = []\n",
    "def isPronicNumber(num):    \n",
    "    flag = False;    \n",
    "        \n",
    "    for j in range(1, int(num/2)+1):    \n",
    "        if((j*(j+1)) == num):    \n",
    "            flag = True    \n",
    "            break    \n",
    "    return flag\n",
    "  \n",
    "for i in range(1, 100):    \n",
    "    if(isPronicNumber(i)):    \n",
    "        l.append(i)\n",
    "        \n",
    "print(\"Pronic numbers are: \", l)"
   ]
  },
  {
   "cell_type": "code",
   "execution_count": null,
   "metadata": {},
   "outputs": [],
   "source": []
  },
  {
   "cell_type": "code",
   "execution_count": null,
   "metadata": {},
   "outputs": [],
   "source": []
  },
  {
   "cell_type": "code",
   "execution_count": null,
   "metadata": {},
   "outputs": [],
   "source": []
  }
 ],
 "metadata": {
  "kernelspec": {
   "display_name": "Python 3",
   "language": "python",
   "name": "python3"
  },
  "language_info": {
   "codemirror_mode": {
    "name": "ipython",
    "version": 3
   },
   "file_extension": ".py",
   "mimetype": "text/x-python",
   "name": "python",
   "nbconvert_exporter": "python",
   "pygments_lexer": "ipython3",
   "version": "3.7.3"
  }
 },
 "nbformat": 4,
 "nbformat_minor": 2
}
