{
 "cells": [
  {
   "cell_type": "markdown",
   "metadata": {},
   "source": [
    "##### 1. Write a Python Program to Find LCM?\n"
   ]
  },
  {
   "cell_type": "code",
   "execution_count": 2,
   "metadata": {},
   "outputs": [
    {
     "name": "stdout",
     "output_type": "stream",
     "text": [
      "Enter number 1 : 44\n",
      "Enter number 2 : 55\n",
      "LCM is :  220\n"
     ]
    }
   ],
   "source": [
    "num1 = int(input(\"Enter number 1 : \"))\n",
    "num2 = int(input(\"Enter number 2 : \"))\n",
    "if (num1 > num2):\n",
    "    greater = num1\n",
    "else:\n",
    "    greater = num2\n",
    "while(True):\n",
    "    if(greater % num1 == 0 and greater % num2 == 0):\n",
    "        lcm = greater\n",
    "        break\n",
    "    greater = greater+1\n",
    "\n",
    "print(\"LCM is : \",  lcm)\n"
   ]
  },
  {
   "cell_type": "markdown",
   "metadata": {},
   "source": [
    "##### 2. Write a Python Program to Find HCF?\n"
   ]
  },
  {
   "cell_type": "code",
   "execution_count": 12,
   "metadata": {},
   "outputs": [
    {
     "name": "stdout",
     "output_type": "stream",
     "text": [
      "Enter number 1 : 6\n",
      "Enter number 2 : 12\n",
      "HCF is :  6\n"
     ]
    }
   ],
   "source": [
    "num1 = int(input(\"Enter number 1 : \"))\n",
    "num2 = int(input(\"Enter number 2 : \"))\n",
    "hcf = 1\n",
    "if num1 > num2:\n",
    "    smaller = num2\n",
    "else:\n",
    "    smaller = num1\n",
    "for i in range(1, smaller+1):\n",
    "    if((num1 % i == 0) and (num2 % i == 0)):\n",
    "        hcf = i\n",
    "\n",
    "print(\"HCF is : \",  hcf)"
   ]
  },
  {
   "cell_type": "markdown",
   "metadata": {},
   "source": [
    "##### 3. Write a Python Program to Convert Decimal to Binary, Octal and Hexadecimal?\n"
   ]
  },
  {
   "cell_type": "code",
   "execution_count": 14,
   "metadata": {},
   "outputs": [
    {
     "name": "stdout",
     "output_type": "stream",
     "text": [
      "Enter a number 33\n",
      "The decimal value of 33 is:\n",
      "0b100001 in binary.\n",
      "0o41 in octal.\n",
      "0x21 in hexadecimal.\n"
     ]
    }
   ],
   "source": [
    "num = int(input(\"Enter a number \"))\n",
    "print(\"The decimal value of\", num, \"is:\")\n",
    "print(bin(num), \"in binary.\")\n",
    "print(oct(num), \"in octal.\")\n",
    "print(hex(num), \"in hexadecimal.\")"
   ]
  },
  {
   "cell_type": "markdown",
   "metadata": {},
   "source": [
    "##### 4. Write a Python Program To Find ASCII value of a character?\n"
   ]
  },
  {
   "cell_type": "code",
   "execution_count": 16,
   "metadata": {},
   "outputs": [
    {
     "name": "stdout",
     "output_type": "stream",
     "text": [
      "Enter a character r\n",
      "The ASCII value of 'r' is 114\n"
     ]
    }
   ],
   "source": [
    "char = input(\"Enter a character \")\n",
    "print(\"The ASCII value of '\" + char + \"' is\", ord(char))"
   ]
  },
  {
   "cell_type": "markdown",
   "metadata": {},
   "source": [
    "##### 5. Write a Python Program to Make a Simple Calculator with 4 basic mathematical operations?"
   ]
  },
  {
   "cell_type": "code",
   "execution_count": 25,
   "metadata": {},
   "outputs": [
    {
     "name": "stdout",
     "output_type": "stream",
     "text": [
      "Calculator : \n",
      "1. Add \n",
      "2. Multiply \n",
      "3. Substract \n",
      "4. Divide\n",
      "Enter your choice from (1/2/3/4) 2\n",
      "Enter number 1 12\n",
      "Enter number 2 33\n",
      "Multiplication:  396\n"
     ]
    }
   ],
   "source": [
    "print(\"Calculator : \\n1. Add \\n2. Multiply \\n3. Substract \\n4. Divide\")\n",
    "\n",
    "choice = int(input(\"Enter your choice from (1/2/3/4) \"))\n",
    "num1 = int(input(\"Enter number 1 \"))\n",
    "num2 = int(input(\"Enter number 2 \"))\n",
    "if choice == 1:\n",
    "    print(\"Addition: \", num1+num2)\n",
    "elif choice == 2:\n",
    "    print(\"Multiplication: \", num1*num2)\n",
    "elif choice == 3:\n",
    "    print(\"Substraction: \", num1-num2)\n",
    "elif choice == 4:\n",
    "    print(\"Division: \", num1/num2)\n",
    "else :\n",
    "    print(\"Invalid input\")"
   ]
  },
  {
   "cell_type": "code",
   "execution_count": null,
   "metadata": {},
   "outputs": [],
   "source": []
  },
  {
   "cell_type": "code",
   "execution_count": null,
   "metadata": {},
   "outputs": [],
   "source": []
  },
  {
   "cell_type": "code",
   "execution_count": null,
   "metadata": {},
   "outputs": [],
   "source": []
  },
  {
   "cell_type": "code",
   "execution_count": null,
   "metadata": {},
   "outputs": [],
   "source": []
  },
  {
   "cell_type": "code",
   "execution_count": null,
   "metadata": {},
   "outputs": [],
   "source": []
  }
 ],
 "metadata": {
  "kernelspec": {
   "display_name": "Python 3",
   "language": "python",
   "name": "python3"
  },
  "language_info": {
   "codemirror_mode": {
    "name": "ipython",
    "version": 3
   },
   "file_extension": ".py",
   "mimetype": "text/x-python",
   "name": "python",
   "nbconvert_exporter": "python",
   "pygments_lexer": "ipython3",
   "version": "3.7.3"
  }
 },
 "nbformat": 4,
 "nbformat_minor": 2
}
